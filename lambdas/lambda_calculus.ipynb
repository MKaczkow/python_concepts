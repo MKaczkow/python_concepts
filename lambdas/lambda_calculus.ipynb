{
 "cells": [
  {
   "cell_type": "markdown",
   "metadata": {},
   "source": [
    "# Lambda Calculus"
   ]
  },
  {
   "cell_type": "markdown",
   "metadata": {},
   "source": [
    "Check out this videos from *Computerphile*:  \n",
    "https://bit.ly/3I9ghwo - lambda calculus  \n",
    "https://bit.ly/3LUBsF0 - Y combinator  \n",
    "https://bit.ly/3hmCZFP - monad  \n",
    "  \n",
    "Serious reading:  \n",
    "https://bit.ly/3p5zBmK - UWr  \n",
    "https://bit.ly/3h6eFYv - MIM UW  \n",
    "\n",
    "Based on:  \n",
    "https://bit.ly/3vcBzpg - Orsinium Labs GitHub repository"
   ]
  },
  {
   "cell_type": "markdown",
   "metadata": {},
   "source": [
    "### True and False"
   ]
  },
  {
   "cell_type": "code",
   "execution_count": 1,
   "metadata": {},
   "outputs": [],
   "source": [
    "IDENTITY = lambda boolean: boolean\n",
    "TRUE = lambda x: lambda y: x\n",
    "FALSE = lambda x: lambda y: y"
   ]
  },
  {
   "cell_type": "markdown",
   "metadata": {},
   "source": [
    "### Logical Operators"
   ]
  },
  {
   "cell_type": "code",
   "execution_count": 9,
   "metadata": {},
   "outputs": [],
   "source": [
    "NOT = lambda boolean: boolean(FALSE)(TRUE)"
   ]
  },
  {
   "cell_type": "code",
   "execution_count": null,
   "metadata": {},
   "outputs": [],
   "source": []
  }
 ],
 "metadata": {
  "interpreter": {
   "hash": "1bef4d652582688e943340990be9ff9ee5040cfd1bec78c5d1b0a3ffdf3ac0ff"
  },
  "kernelspec": {
   "display_name": "Python 3.9.7 ('venv': venv)",
   "language": "python",
   "name": "python3"
  },
  "language_info": {
   "codemirror_mode": {
    "name": "ipython",
    "version": 3
   },
   "file_extension": ".py",
   "mimetype": "text/x-python",
   "name": "python",
   "nbconvert_exporter": "python",
   "pygments_lexer": "ipython3",
   "version": "3.9.7"
  },
  "orig_nbformat": 4
 },
 "nbformat": 4,
 "nbformat_minor": 2
}
