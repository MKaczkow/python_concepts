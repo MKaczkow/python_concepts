{
 "cells": [
  {
   "cell_type": "markdown",
   "metadata": {},
   "source": [
    "# Lambda Calculus"
   ]
  },
  {
   "cell_type": "markdown",
   "metadata": {},
   "source": [
    "Check out this videos from *Computerphile*:  \n",
    "https://bit.ly/3I9ghwo - lambda calculus  \n",
    "https://bit.ly/3LUBsF0 - Y combinator  \n",
    "https://bit.ly/3hmCZFP - monad  \n",
    "  \n",
    "Serious reading:  \n",
    "https://bit.ly/3p5zBmK - UWr  \n",
    "https://bit.ly/3h6eFYv - MIM UW  \n",
    "\n",
    "Based on:  \n",
    "https://bit.ly/3vcBzpg - Orsinium Labs GitHub repository"
   ]
  },
  {
   "cell_type": "markdown",
   "metadata": {},
   "source": [
    "### True and False"
   ]
  },
  {
   "cell_type": "code",
   "execution_count": 5,
   "metadata": {},
   "outputs": [],
   "source": [
    "IDENTITY = lambda boolean: boolean\n",
    "TRUE = lambda x: lambda y: x\n",
    "FALSE = lambda x: lambda y: y"
   ]
  },
  {
   "cell_type": "markdown",
   "metadata": {},
   "source": [
    "### Logical Operators"
   ]
  },
  {
   "cell_type": "code",
   "execution_count": 6,
   "metadata": {},
   "outputs": [],
   "source": [
    "NOT = lambda boolean: boolean(FALSE)(TRUE)"
   ]
  },
  {
   "cell_type": "markdown",
   "metadata": {},
   "source": [
    "### Y Combinator"
   ]
  },
  {
   "cell_type": "markdown",
   "metadata": {},
   "source": [
    "Typical definition (via Wikipedia):  \n",
    "Y = $\\lambda$ f. ($\\lambda$ x. f(x x)) ($\\lambda$ x. f(x x))"
   ]
  },
  {
   "cell_type": "code",
   "execution_count": 1,
   "metadata": {},
   "outputs": [
    {
     "data": {
      "text/plain": [
       "<function __main__.<lambda>(f)>"
      ]
     },
     "execution_count": 1,
     "metadata": {},
     "output_type": "execute_result"
    }
   ],
   "source": [
    "# in code it would look like:\n",
    "Y = lambda f: (\n",
    "    (lambda x: (f(x) (x)) (f(x) (x)))\n",
    "    (lambda x: (f(x) (x)) (f(x) (x)))\n",
    ")"
   ]
  },
  {
   "cell_type": "code",
   "execution_count": 2,
   "metadata": {},
   "outputs": [],
   "source": [
    "# but in repo is implemented like that:\n",
    "Y = lambda f: (\n",
    "    (lambda x: f(lambda y: x(x)(y)))\n",
    "    (lambda x: f(lambda y: x(x)(y)))\n",
    ")"
   ]
  },
  {
   "cell_type": "markdown",
   "metadata": {},
   "source": [
    "### Church encoding"
   ]
  },
  {
   "cell_type": "markdown",
   "metadata": {},
   "source": [
    "S = $\\lambda$ xyz. y(xyz)\n"
   ]
  },
  {
   "cell_type": "code",
   "execution_count": 3,
   "metadata": {},
   "outputs": [],
   "source": [
    "S = lambda x: lambda y: lambda z: y(x) (y(z))\n",
    "\n",
    "# S = lambda a: lambda b: lambda c: a(c)(b(c))"
   ]
  },
  {
   "cell_type": "code",
   "execution_count": 8,
   "metadata": {},
   "outputs": [],
   "source": [
    "# numerals\n",
    "ZERO = FALSE\n",
    "ONE = S(ZERO)"
   ]
  },
  {
   "cell_type": "code",
   "execution_count": 9,
   "metadata": {},
   "outputs": [
    {
     "name": "stdout",
     "output_type": "stream",
     "text": [
      "<function <lambda>.<locals>.<lambda> at 0x000001DAB83A7550>\n"
     ]
    }
   ],
   "source": [
    "print(ONE)"
   ]
  },
  {
   "cell_type": "markdown",
   "metadata": {},
   "source": [
    "\n",
    "### Arithmetics"
   ]
  },
  {
   "cell_type": "code",
   "execution_count": null,
   "metadata": {},
   "outputs": [],
   "source": []
  },
  {
   "cell_type": "markdown",
   "metadata": {},
   "source": [
    "### Własność Churcha-Rossera"
   ]
  },
  {
   "cell_type": "markdown",
   "metadata": {},
   "source": [
    "... czyli inaczej *własność karo*"
   ]
  },
  {
   "cell_type": "markdown",
   "metadata": {},
   "source": [
    "![własność karo](/karo_graf.png)"
   ]
  },
  {
   "cell_type": "code",
   "execution_count": null,
   "metadata": {},
   "outputs": [],
   "source": []
  },
  {
   "cell_type": "markdown",
   "metadata": {},
   "source": [
    "### Tasks\n",
    "* (DONE) bool\n",
    "* (TODO) list\n",
    "* rest is partially done or not yet fully understood"
   ]
  }
 ],
 "metadata": {
  "interpreter": {
   "hash": "1bef4d652582688e943340990be9ff9ee5040cfd1bec78c5d1b0a3ffdf3ac0ff"
  },
  "kernelspec": {
   "display_name": "Python 3.9.7 ('venv': venv)",
   "language": "python",
   "name": "python3"
  },
  "language_info": {
   "codemirror_mode": {
    "name": "ipython",
    "version": 3
   },
   "file_extension": ".py",
   "mimetype": "text/x-python",
   "name": "python",
   "nbconvert_exporter": "python",
   "pygments_lexer": "ipython3",
   "version": "3.9.7"
  },
  "orig_nbformat": 4
 },
 "nbformat": 4,
 "nbformat_minor": 2
}
