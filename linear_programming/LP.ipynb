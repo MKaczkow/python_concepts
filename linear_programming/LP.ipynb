{
 "cells": [
  {
   "cell_type": "code",
   "execution_count": 2,
   "metadata": {},
   "outputs": [],
   "source": [
    "import cvxpy as cp\n",
    "import numpy as np"
   ]
  },
  {
   "cell_type": "markdown",
   "metadata": {},
   "source": [
    "## Basic example"
   ]
  },
  {
   "cell_type": "code",
   "execution_count": null,
   "metadata": {},
   "outputs": [],
   "source": [
    "s = cp.Variable()\n",
    "t = cp.Variable()\n",
    "\n",
    "objective = cp.Maximize(1 * s + 5 * t)\n",
    "\n",
    "constraints = [\n",
    "    2 * s + 15 * t <= 365,\n",
    "    4 * s + 8 * t <= 500,\n",
    "]\n",
    "\n",
    "prob = cp.Problem(objective, constraints)"
   ]
  },
  {
   "cell_type": "code",
   "execution_count": null,
   "metadata": {},
   "outputs": [],
   "source": [
    "optimal_value = prob.solve(verbose=True)"
   ]
  },
  {
   "cell_type": "code",
   "execution_count": null,
   "metadata": {},
   "outputs": [],
   "source": [
    "prob.status"
   ]
  },
  {
   "cell_type": "code",
   "execution_count": null,
   "metadata": {},
   "outputs": [],
   "source": [
    "print(f\"Optimal value: {optimal_value},\", f\"optimal s: {s.value}, t: {t.value}\")"
   ]
  },
  {
   "cell_type": "markdown",
   "metadata": {},
   "source": [
    "## More complex example"
   ]
  },
  {
   "cell_type": "code",
   "execution_count": 13,
   "metadata": {},
   "outputs": [],
   "source": [
    "costs = np.array([\n",
    "    [1e9, 13, 1e9, 14, 18, 1e9],\n",
    "    [1e9, 4, 2, 1e9, 1e9, 1e9],\n",
    "    [1e9, 1e9, 1e9, 3, 1e9, 1e9],\n",
    "    [5, np.inf, 7, 6, 3, 5],\n",
    "])"
   ]
  },
  {
   "cell_type": "code",
   "execution_count": 14,
   "metadata": {},
   "outputs": [],
   "source": [
    "num_teams, num_projects = costs.shape"
   ]
  },
  {
   "cell_type": "code",
   "execution_count": 15,
   "metadata": {},
   "outputs": [],
   "source": [
    "x = cp.Variable((num_teams, num_projects), boolean=True)"
   ]
  },
  {
   "cell_type": "code",
   "execution_count": 16,
   "metadata": {},
   "outputs": [],
   "source": [
    "objective = cp.Minimize(cp.sum(cp.sum(cp.multiply(costs, x), axis=0)))\n",
    "\n",
    "constraints = [cp.sum(x, axis=0) == 1, cp.sum(x, axis=1) <= 1]\n",
    "\n",
    "problem = cp.Problem(objective, constraints)"
   ]
  },
  {
   "cell_type": "code",
   "execution_count": 17,
   "metadata": {},
   "outputs": [
    {
     "ename": "ValueError",
     "evalue": "`c` must be a one-dimensional array of finite numbers with at least one element.",
     "output_type": "error",
     "traceback": [
      "\u001b[1;31m---------------------------------------------------------------------------\u001b[0m",
      "\u001b[1;31mValueError\u001b[0m                                Traceback (most recent call last)",
      "\u001b[1;32md:\\__repos\\python_concepts\\linear_programming\\LP.ipynb Cell 12\u001b[0m line \u001b[0;36m1\n\u001b[1;32m----> <a href='vscode-notebook-cell:/d%3A/__repos/python_concepts/linear_programming/LP.ipynb#X40sZmlsZQ%3D%3D?line=0'>1</a>\u001b[0m problem\u001b[39m.\u001b[39;49msolve()\n\u001b[0;32m      <a href='vscode-notebook-cell:/d%3A/__repos/python_concepts/linear_programming/LP.ipynb#X40sZmlsZQ%3D%3D?line=1'>2</a>\u001b[0m problem\u001b[39m.\u001b[39mstatus\n",
      "File \u001b[1;32md:\\__repos\\python_concepts\\venv\\lib\\site-packages\\cvxpy\\problems\\problem.py:503\u001b[0m, in \u001b[0;36mProblem.solve\u001b[1;34m(self, *args, **kwargs)\u001b[0m\n\u001b[0;32m    501\u001b[0m \u001b[39melse\u001b[39;00m:\n\u001b[0;32m    502\u001b[0m     solve_func \u001b[39m=\u001b[39m Problem\u001b[39m.\u001b[39m_solve\n\u001b[1;32m--> 503\u001b[0m \u001b[39mreturn\u001b[39;00m solve_func(\u001b[39mself\u001b[39m, \u001b[39m*\u001b[39margs, \u001b[39m*\u001b[39m\u001b[39m*\u001b[39mkwargs)\n",
      "File \u001b[1;32md:\\__repos\\python_concepts\\venv\\lib\\site-packages\\cvxpy\\problems\\problem.py:1082\u001b[0m, in \u001b[0;36mProblem._solve\u001b[1;34m(self, solver, warm_start, verbose, gp, qcp, requires_grad, enforce_dpp, ignore_dpp, canon_backend, **kwargs)\u001b[0m\n\u001b[0;32m   1078\u001b[0m     s\u001b[39m.\u001b[39mLOGGER\u001b[39m.\u001b[39minfo(\n\u001b[0;32m   1079\u001b[0m             \u001b[39m'\u001b[39m\u001b[39mInvoking solver \u001b[39m\u001b[39m%s\u001b[39;00m\u001b[39m  to obtain a solution.\u001b[39m\u001b[39m'\u001b[39m,\n\u001b[0;32m   1080\u001b[0m             solving_chain\u001b[39m.\u001b[39mreductions[\u001b[39m-\u001b[39m\u001b[39m1\u001b[39m]\u001b[39m.\u001b[39mname())\n\u001b[0;32m   1081\u001b[0m start \u001b[39m=\u001b[39m time\u001b[39m.\u001b[39mtime()\n\u001b[1;32m-> 1082\u001b[0m solution \u001b[39m=\u001b[39m solving_chain\u001b[39m.\u001b[39;49msolve_via_data(\n\u001b[0;32m   1083\u001b[0m     \u001b[39mself\u001b[39;49m, data, warm_start, verbose, kwargs)\n\u001b[0;32m   1084\u001b[0m end \u001b[39m=\u001b[39m time\u001b[39m.\u001b[39mtime()\n\u001b[0;32m   1085\u001b[0m \u001b[39mself\u001b[39m\u001b[39m.\u001b[39m_solve_time \u001b[39m=\u001b[39m end \u001b[39m-\u001b[39m start\n",
      "File \u001b[1;32md:\\__repos\\python_concepts\\venv\\lib\\site-packages\\cvxpy\\reductions\\solvers\\solving_chain.py:453\u001b[0m, in \u001b[0;36mSolvingChain.solve_via_data\u001b[1;34m(self, problem, data, warm_start, verbose, solver_opts)\u001b[0m\n\u001b[0;32m    417\u001b[0m \u001b[39mdef\u001b[39;00m \u001b[39msolve_via_data\u001b[39m(\u001b[39mself\u001b[39m, problem, data, warm_start: \u001b[39mbool\u001b[39m \u001b[39m=\u001b[39m \u001b[39mFalse\u001b[39;00m, verbose: \u001b[39mbool\u001b[39m \u001b[39m=\u001b[39m \u001b[39mFalse\u001b[39;00m,\n\u001b[0;32m    418\u001b[0m                    solver_opts\u001b[39m=\u001b[39m{}):\n\u001b[0;32m    419\u001b[0m \u001b[39m    \u001b[39m\u001b[39m\"\"\"Solves the problem using the data output by the an apply invocation.\u001b[39;00m\n\u001b[0;32m    420\u001b[0m \n\u001b[0;32m    421\u001b[0m \u001b[39m    The semantics are:\u001b[39;00m\n\u001b[1;32m   (...)\u001b[0m\n\u001b[0;32m    451\u001b[0m \u001b[39m        a Solution object.\u001b[39;00m\n\u001b[0;32m    452\u001b[0m \u001b[39m    \"\"\"\u001b[39;00m\n\u001b[1;32m--> 453\u001b[0m     \u001b[39mreturn\u001b[39;00m \u001b[39mself\u001b[39;49m\u001b[39m.\u001b[39;49msolver\u001b[39m.\u001b[39;49msolve_via_data(data, warm_start, verbose,\n\u001b[0;32m    454\u001b[0m                                       solver_opts, problem\u001b[39m.\u001b[39;49m_solver_cache)\n",
      "File \u001b[1;32md:\\__repos\\python_concepts\\venv\\lib\\site-packages\\cvxpy\\reductions\\solvers\\conic_solvers\\scipy_conif.py:203\u001b[0m, in \u001b[0;36mSCIPY.solve_via_data\u001b[1;34m(self, data, warm_start, verbose, solver_opts, solver_cache)\u001b[0m\n\u001b[0;32m    201\u001b[0m     ub \u001b[39m=\u001b[39m [t[\u001b[39m1\u001b[39m] \u001b[39mif\u001b[39;00m t[\u001b[39m1\u001b[39m] \u001b[39mis\u001b[39;00m \u001b[39mnot\u001b[39;00m \u001b[39mNone\u001b[39;00m \u001b[39melse\u001b[39;00m np\u001b[39m.\u001b[39minf \u001b[39mfor\u001b[39;00m t \u001b[39min\u001b[39;00m bounds]\n\u001b[0;32m    202\u001b[0m     bounds \u001b[39m=\u001b[39m scipy\u001b[39m.\u001b[39moptimize\u001b[39m.\u001b[39mBounds(lb, ub)\n\u001b[1;32m--> 203\u001b[0m     solution \u001b[39m=\u001b[39m opt\u001b[39m.\u001b[39;49mmilp(data[s\u001b[39m.\u001b[39;49mC], \n\u001b[0;32m    204\u001b[0m                         constraints\u001b[39m=\u001b[39;49mconstraints,\n\u001b[0;32m    205\u001b[0m                         options\u001b[39m=\u001b[39;49msolver_opts[\u001b[39m'\u001b[39;49m\u001b[39mscipy_options\u001b[39;49m\u001b[39m'\u001b[39;49m],\n\u001b[0;32m    206\u001b[0m                         integrality\u001b[39m=\u001b[39;49mintegrality,\n\u001b[0;32m    207\u001b[0m                         bounds\u001b[39m=\u001b[39;49mbounds)\n\u001b[0;32m    208\u001b[0m \u001b[39melse\u001b[39;00m:\n\u001b[0;32m    209\u001b[0m     solution \u001b[39m=\u001b[39m opt\u001b[39m.\u001b[39mlinprog(data[s\u001b[39m.\u001b[39mC], A_ub\u001b[39m=\u001b[39mdata[s\u001b[39m.\u001b[39mG], b_ub\u001b[39m=\u001b[39mdata[s\u001b[39m.\u001b[39mH],\n\u001b[0;32m    210\u001b[0m                            A_eq\u001b[39m=\u001b[39mdata[s\u001b[39m.\u001b[39mA], b_eq\u001b[39m=\u001b[39mdata[s\u001b[39m.\u001b[39mB], method\u001b[39m=\u001b[39mmeth,\n\u001b[0;32m    211\u001b[0m                            options\u001b[39m=\u001b[39msolver_opts[\u001b[39m'\u001b[39m\u001b[39mscipy_options\u001b[39m\u001b[39m'\u001b[39m],\n\u001b[0;32m    212\u001b[0m                            bounds\u001b[39m=\u001b[39mbounds)\n",
      "File \u001b[1;32md:\\__repos\\python_concepts\\venv\\lib\\site-packages\\scipy\\optimize\\_milp.py:368\u001b[0m, in \u001b[0;36mmilp\u001b[1;34m(c, integrality, bounds, constraints, options)\u001b[0m\n\u001b[0;32m    151\u001b[0m \u001b[39mdef\u001b[39;00m \u001b[39mmilp\u001b[39m(c, \u001b[39m*\u001b[39m, integrality\u001b[39m=\u001b[39m\u001b[39mNone\u001b[39;00m, bounds\u001b[39m=\u001b[39m\u001b[39mNone\u001b[39;00m, constraints\u001b[39m=\u001b[39m\u001b[39mNone\u001b[39;00m, options\u001b[39m=\u001b[39m\u001b[39mNone\u001b[39;00m):\n\u001b[0;32m    152\u001b[0m \u001b[39m    \u001b[39m\u001b[39mr\u001b[39m\u001b[39m\"\"\"\u001b[39;00m\n\u001b[0;32m    153\u001b[0m \u001b[39m    Mixed-integer linear programming\u001b[39;00m\n\u001b[0;32m    154\u001b[0m \n\u001b[1;32m   (...)\u001b[0m\n\u001b[0;32m    366\u001b[0m \n\u001b[0;32m    367\u001b[0m \u001b[39m    \"\"\"\u001b[39;00m\n\u001b[1;32m--> 368\u001b[0m     args_iv \u001b[39m=\u001b[39m _milp_iv(c, integrality, bounds, constraints, options)\n\u001b[0;32m    369\u001b[0m     c, integrality, lb, ub, indptr, indices, data, b_l, b_u, options \u001b[39m=\u001b[39m args_iv\n\u001b[0;32m    371\u001b[0m     highs_res \u001b[39m=\u001b[39m _highs_wrapper(c, indptr, indices, data, b_l, b_u,\n\u001b[0;32m    372\u001b[0m                                lb, ub, integrality, options)\n",
      "File \u001b[1;32md:\\__repos\\python_concepts\\venv\\lib\\site-packages\\scipy\\optimize\\_milp.py:83\u001b[0m, in \u001b[0;36m_milp_iv\u001b[1;34m(c, integrality, bounds, constraints, options)\u001b[0m\n\u001b[0;32m     80\u001b[0m \u001b[39mif\u001b[39;00m c\u001b[39m.\u001b[39mndim \u001b[39m!=\u001b[39m \u001b[39m1\u001b[39m \u001b[39mor\u001b[39;00m c\u001b[39m.\u001b[39msize \u001b[39m==\u001b[39m \u001b[39m0\u001b[39m \u001b[39mor\u001b[39;00m \u001b[39mnot\u001b[39;00m np\u001b[39m.\u001b[39mall(np\u001b[39m.\u001b[39misfinite(c)):\n\u001b[0;32m     81\u001b[0m     message \u001b[39m=\u001b[39m (\u001b[39m\"\u001b[39m\u001b[39m`c` must be a one-dimensional array of finite numbers \u001b[39m\u001b[39m\"\u001b[39m\n\u001b[0;32m     82\u001b[0m                \u001b[39m\"\u001b[39m\u001b[39mwith at least one element.\u001b[39m\u001b[39m\"\u001b[39m)\n\u001b[1;32m---> 83\u001b[0m     \u001b[39mraise\u001b[39;00m \u001b[39mValueError\u001b[39;00m(message)\n\u001b[0;32m     85\u001b[0m \u001b[39m# integrality IV\u001b[39;00m\n\u001b[0;32m     86\u001b[0m \u001b[39mif\u001b[39;00m issparse(integrality):\n",
      "\u001b[1;31mValueError\u001b[0m: `c` must be a one-dimensional array of finite numbers with at least one element."
     ]
    }
   ],
   "source": [
    "problem.solve()\n",
    "problem.status"
   ]
  },
  {
   "cell_type": "code",
   "execution_count": null,
   "metadata": {},
   "outputs": [],
   "source": [
    "print(\"Przydział zespołów do projektów:\")\n",
    "print(x.value)\n",
    "\n",
    "print(\"Minimalny koszt wynajmu zespołów:\", problem.value)"
   ]
  }
 ],
 "metadata": {
  "kernelspec": {
   "display_name": "venv",
   "language": "python",
   "name": "python3"
  },
  "language_info": {
   "codemirror_mode": {
    "name": "ipython",
    "version": 3
   },
   "file_extension": ".py",
   "mimetype": "text/x-python",
   "name": "python",
   "nbconvert_exporter": "python",
   "pygments_lexer": "ipython3",
   "version": "3.10.3"
  }
 },
 "nbformat": 4,
 "nbformat_minor": 2
}
