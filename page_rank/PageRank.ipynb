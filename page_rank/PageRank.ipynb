{
 "cells": [
  {
   "cell_type": "code",
   "execution_count": null,
   "metadata": {},
   "outputs": [],
   "source": [
    "import networkx as nx\n",
    "from networkx.algorithms.link_analysis import pagerank, google_matrix\n",
    "import numpy as np"
   ]
  },
  {
   "cell_type": "code",
   "execution_count": null,
   "metadata": {},
   "outputs": [],
   "source": [
    "# G = nx.DiGraph(nx.path_graph(6))\n",
    "G = nx.gnp_random_graph(10, 0.2)\n"
   ]
  },
  {
   "cell_type": "code",
   "execution_count": null,
   "metadata": {},
   "outputs": [],
   "source": [
    "nx.draw(G, with_labels=True)"
   ]
  },
  {
   "cell_type": "code",
   "execution_count": null,
   "metadata": {},
   "outputs": [],
   "source": [
    "pr = pagerank(G, alpha=0.9)"
   ]
  },
  {
   "cell_type": "code",
   "execution_count": null,
   "metadata": {},
   "outputs": [],
   "source": [
    "pr"
   ]
  },
  {
   "cell_type": "code",
   "execution_count": null,
   "metadata": {},
   "outputs": [],
   "source": [
    "gm = google_matrix(G, alpha=0.9)"
   ]
  },
  {
   "cell_type": "code",
   "execution_count": null,
   "metadata": {},
   "outputs": [],
   "source": [
    "gm"
   ]
  },
  {
   "cell_type": "code",
   "execution_count": null,
   "metadata": {},
   "outputs": [],
   "source": [
    "def pagerank(adj_matrix, d=0.85, max_iter=100, tol=1e-6):\n",
    "    \n",
    "    n = len(adj_matrix)\n",
    "    P = np.zeros((n, n))\n",
    "\n",
    "    for i in range(n):\n",
    "        num_links = np.sum(adj_matrix[i])\n",
    "        if num_links == 0:\n",
    "            P[i] = np.ones(n) / n\n",
    "        else:\n",
    "            P[i] = adj_matrix[i] / num_links\n",
    "    P = P.T\n",
    "\n",
    "    v = np.ones(n) / n\n",
    "    for _ in range(max_iter):\n",
    "        new_v = (1 - d) / n + d * np.dot(P, v)\n",
    "        if np.linalg.norm(new_v - v, ord=1) < tol:\n",
    "            break\n",
    "        v = new_v\n",
    "    return v\n"
   ]
  },
  {
   "cell_type": "code",
   "execution_count": null,
   "metadata": {},
   "outputs": [],
   "source": [
    "pagerank(nx.to_numpy_array(G))"
   ]
  },
  {
   "cell_type": "code",
   "execution_count": null,
   "metadata": {},
   "outputs": [],
   "source": []
  }
 ],
 "metadata": {
  "kernelspec": {
   "display_name": "venv",
   "language": "python",
   "name": "python3"
  },
  "language_info": {
   "codemirror_mode": {
    "name": "ipython",
    "version": 3
   },
   "file_extension": ".py",
   "mimetype": "text/x-python",
   "name": "python",
   "nbconvert_exporter": "python",
   "pygments_lexer": "ipython3",
   "version": "3.10.3"
  }
 },
 "nbformat": 4,
 "nbformat_minor": 2
}
