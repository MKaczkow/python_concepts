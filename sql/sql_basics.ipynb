{
 "cells": [
  {
   "cell_type": "code",
   "execution_count": null,
   "id": "0fa8cdc4",
   "metadata": {},
   "outputs": [],
   "source": [
    "import os\n",
    "import json\n",
    "import sqlite3\n",
    "import pandas as pd\n",
    "print(sqlite3.sqlite_version)"
   ]
  },
  {
   "cell_type": "markdown",
   "id": "9846a0f4",
   "metadata": {},
   "source": [
    "# Theory - basics"
   ]
  },
  {
   "cell_type": "markdown",
   "id": "f9d4cb16",
   "metadata": {},
   "source": [
    "(Step 5)   SELECT   -- określanie kształtu wyniku, selekcja pionowa (kolumn)  \n",
    "(Step 1)   FROM     -- określenie źródła (źródeł) i relacji między nimi  \n",
    "(Step 2)   WHERE    -- filtracja rekordów  \n",
    "(Step 3)   GROUP BY -- grupowanie rekordów   \n",
    "(Step 4)   HAVING   -- filtrowanie grup   \n",
    "(Step 6)   ORDER BY -- sortowanie wyniku  "
   ]
  },
  {
   "cell_type": "markdown",
   "id": "b8a0b19e",
   "metadata": {},
   "source": [
    "# Basic SQL queries with python"
   ]
  },
  {
   "cell_type": "code",
   "execution_count": null,
   "id": "5791f9b7",
   "metadata": {},
   "outputs": [],
   "source": [
    "# Create a SQL connection to our SQLite database\n",
    "con = sqlite3.connect(\"data/db/portal_mammals.sqlite\")\n",
    "\n",
    "cur = con.cursor()\n",
    "\n",
    "# The result of a \"cursor.execute\" can be iterated over by row\n",
    "for row in cur.execute('SELECT * FROM species;'):\n",
    "    print(row)"
   ]
  },
  {
   "cell_type": "code",
   "execution_count": null,
   "id": "a780a383",
   "metadata": {},
   "outputs": [],
   "source": [
    "# Create a SQL connection to our SQLite database\n",
    "con = sqlite3.connect(\"data/db/portal_mammals.sqlite\")\n",
    "\n",
    "cur = con.cursor()\n",
    "\n",
    "# Return all results of query\n",
    "cur.execute('SELECT plot_id FROM plots WHERE plot_type=\"Control\"')\n",
    "rows = cur.fetchall()\n",
    "print(rows)\n",
    "\n",
    "# Return first result of query\n",
    "cur.execute('SELECT species FROM species WHERE taxa=\"Bird\"')\n",
    "row = cur.fetchone()\n",
    "print(row)\n",
    "\n",
    "# Be sure to close the connection\n",
    "con.close()"
   ]
  },
  {
   "cell_type": "code",
   "execution_count": null,
   "id": "21c5291c",
   "metadata": {},
   "outputs": [],
   "source": [
    "# Read sqlite query results into a pandas DataFrame\n",
    "con = sqlite3.connect(\"data/db/portal_mammals.sqlite\")\n",
    "df = pd.read_sql_query(\"SELECT * from surveys\", con)\n",
    "\n",
    "# Verify that result of SQL query is stored in the dataframe\n",
    "print(df.head())\n",
    "\n",
    "con.close()"
   ]
  },
  {
   "cell_type": "markdown",
   "id": "0d98db20",
   "metadata": {},
   "source": [
    "# More exercises with mock table"
   ]
  },
  {
   "cell_type": "code",
   "execution_count": null,
   "id": "1b3f928f",
   "metadata": {},
   "outputs": [],
   "source": [
    "main_df = pd.read_csv(r'./data/seeds_dataset_clean.txt', header=None, sep='\\t')"
   ]
  },
  {
   "cell_type": "code",
   "execution_count": null,
   "id": "c399f22d",
   "metadata": {
    "scrolled": false
   },
   "outputs": [],
   "source": [
    "print(main_df.info())\n",
    "print()\n",
    "print(main_df.head(10))"
   ]
  },
  {
   "cell_type": "markdown",
   "id": "cbe405e7",
   "metadata": {},
   "source": [
    "Attribute Information (seeds dataset):\n",
    "\n",
    "To construct the data, seven geometric parameters of wheat kernels were measured:\n",
    "1. area A\n",
    "2. perimeter P\n",
    "3. compactness C = 4*pi*A/P^2\n",
    "4. length of kernel\n",
    "5. width of kernel\n",
    "6. asymmetry coefficient\n",
    "7. length of kernel groove\n",
    "\n",
    "All of these parameters were real-valued continuous."
   ]
  },
  {
   "cell_type": "code",
   "execution_count": null,
   "id": "e52016f1",
   "metadata": {},
   "outputs": [],
   "source": [
    "# CREATE TABLE inside db\n",
    "con = sqlite3.connect(\"data/db/seeds.sqlite\")\n",
    "cur = con.cursor()\n",
    "\n",
    "cur.execute('''CREATE TABLE IF NOT EXISTS mock_table\n",
    "(area, perimeter, compactness, length_of_kernel, width_of_kernel, asymmetry_coefficient, length_of_kernel_groove)''')\n",
    "\n",
    "con.commit()\n",
    "\n",
    "con.close()"
   ]
  },
  {
   "cell_type": "code",
   "execution_count": null,
   "id": "31ec2e88",
   "metadata": {},
   "outputs": [],
   "source": [
    "# INSERT some mock data\n",
    "con = sqlite3.connect(\"data/db/seeds.sqlite\")\n",
    "cur = con.cursor()\n",
    "\n",
    "cur.execute(\"INSERT INTO mock_table VALUES ('15.26',  '14.84',  '0.8710',  '5.763',  '3.312',  '2.221', '5.220')\")\n",
    "\n",
    "con.commit()\n",
    "\n",
    "con.close()"
   ]
  },
  {
   "cell_type": "code",
   "execution_count": null,
   "id": "2133a5c7",
   "metadata": {},
   "outputs": [],
   "source": [
    "# See if it works (SELECT) ...\n",
    "con = sqlite3.connect(\"data/db/seeds.sqlite\")\n",
    "cur = con.cursor()\n",
    "\n",
    "# ... using iterator ...\n",
    "print(\"iterator\")\n",
    "for row in cur.execute('SELECT * FROM mock_table'):\n",
    "    print(row)\n",
    "print()\n",
    "\n",
    "# ... or using normal queries\n",
    "print(\"query\")\n",
    "cur.execute(\"SELECT * FROM mock_table\")\n",
    "row = cur.fetchone()\n",
    "print(row)\n",
    "print(type(row))\n",
    "\n",
    "con.close()"
   ]
  },
  {
   "cell_type": "code",
   "execution_count": null,
   "id": "7dbb5033",
   "metadata": {},
   "outputs": [],
   "source": [
    "# DROP mock table\n",
    "con = sqlite3.connect(\"data/db/seeds.sqlite\")\n",
    "cur = con.cursor()\n",
    "\n",
    "cur.execute(\"DROP TABLE IF EXISTS mock_table;\")\n",
    "\n",
    "try:\n",
    "    cur.execute('SELECT * FROM mock_table')\n",
    "except sqlite3.OperationalError:\n",
    "    print(\"No table - deleted - good\")\n",
    "finally:\n",
    "    con.close()"
   ]
  },
  {
   "cell_type": "markdown",
   "id": "18c45641",
   "metadata": {},
   "source": [
    "# Saving .csv file to seeds db"
   ]
  },
  {
   "cell_type": "code",
   "execution_count": null,
   "id": "6fc82c92",
   "metadata": {},
   "outputs": [],
   "source": [
    "con = sqlite3.connect(\"data/db/seeds.sqlite\")\n",
    "cur = con.cursor()\n",
    "\n",
    "main_df.to_sql(\"seeds_params\", con, if_exists=\"replace\")\n",
    "\n",
    "try:\n",
    "    cur.execute('SELECT * FROM seeds_params')\n",
    "    rows = cur.fetchmany(10)\n",
    "    print(rows)\n",
    "except sqlite3.OperationalError:\n",
    "    print(\"No table - not good\")\n",
    "    \n",
    "con.close()"
   ]
  },
  {
   "cell_type": "markdown",
   "id": "64086e6a",
   "metadata": {},
   "source": [
    "## Working with actual .geojson file"
   ]
  },
  {
   "cell_type": "code",
   "execution_count": null,
   "id": "bca08c19",
   "metadata": {},
   "outputs": [],
   "source": [
    "geojson_file = os.path.join('./data/geojsons/SKIERNIEWICE_SA2-WARSZAWA_SDN-OTS002.geojson')\n",
    "\n",
    "with open (geojson_file) as f:\n",
    "    geojson_data = json.load(f)"
   ]
  },
  {
   "cell_type": "code",
   "execution_count": null,
   "id": "45544d6b",
   "metadata": {},
   "outputs": [],
   "source": [
    "print(geojson_data['type'])"
   ]
  },
  {
   "cell_type": "code",
   "execution_count": null,
   "id": "a43b37dc",
   "metadata": {},
   "outputs": [],
   "source": [
    "print(geojson_data['features'][0]['type'])"
   ]
  },
  {
   "cell_type": "code",
   "execution_count": null,
   "id": "ab18d9d3",
   "metadata": {},
   "outputs": [],
   "source": [
    "print(geojson_data['features'][0]['properties']['fill-opacity'])"
   ]
  },
  {
   "cell_type": "code",
   "execution_count": null,
   "id": "ce5ca80c",
   "metadata": {},
   "outputs": [],
   "source": [
    "print(geojson_data['features'][0]['properties']['stroke'])"
   ]
  },
  {
   "cell_type": "code",
   "execution_count": null,
   "id": "bd33189d",
   "metadata": {},
   "outputs": [],
   "source": [
    "print(geojson_data['features'][0]['properties']['stroke-opacity'])"
   ]
  },
  {
   "cell_type": "code",
   "execution_count": null,
   "id": "2839de9f",
   "metadata": {},
   "outputs": [],
   "source": [
    "print(geojson_data['features'][0]['geometry']['type'])"
   ]
  },
  {
   "cell_type": "code",
   "execution_count": null,
   "id": "4700c234",
   "metadata": {},
   "outputs": [],
   "source": [
    "print(geojson_data['features'][0]['geometry']['coordinates'][0:20])"
   ]
  },
  {
   "cell_type": "markdown",
   "id": "627d30b8",
   "metadata": {},
   "source": [
    "Written above may be columns of db (??)  \n",
    "\n",
    "Like this:\n",
    "\n",
    "- type\n",
    "- features\n",
    "    - type\n",
    "    - properties\n",
    "        - fill-opacity\n",
    "        - stroke\n",
    "        - stroke-opacity\n",
    "        - geometry\n",
    "            - type\n",
    "            - coordinates"
   ]
  },
  {
   "cell_type": "code",
   "execution_count": null,
   "id": "9143a759",
   "metadata": {},
   "outputs": [],
   "source": [
    "con = sqlite3.connect(\"data/db/geo.sqlite\")\n",
    "cur = con.cursor()\n",
    "\n",
    "cur.execute(\"DROP TABLE IF EXISTS geo_table\")\n",
    "con.commit()\n",
    "\n",
    "cur.execute('''CREATE TABLE IF NOT EXISTS geo_table (points)''')\n",
    "con.commit()\n",
    "\n",
    "cur.execute(\"INSERT INTO geo_table VALUES (?)\", [data_for_db])\n",
    "con.commit()\n",
    "\n",
    "cur.execute(\"SELECT * FROM geo_table\")\n",
    "rows = cur.fetchall()\n",
    "print(rows)\n",
    "\n",
    "con.close()"
   ]
  },
  {
   "cell_type": "markdown",
   "id": "850196ff",
   "metadata": {},
   "source": [
    "Above doesn't work yet, because of wrong way of saving data to db (line 10, with INSERT)"
   ]
  },
  {
   "cell_type": "markdown",
   "id": "b20b434b",
   "metadata": {},
   "source": [
    "Next attempt may be based on: \n",
    "https://stackoverflow.com/questions/16603621/how-to-store-json-object-in-sqlite-database"
   ]
  },
  {
   "cell_type": "markdown",
   "id": "ec270e93",
   "metadata": {},
   "source": [
    "# Some more SQL with Khan Academy tutorial"
   ]
  },
  {
   "cell_type": "markdown",
   "id": "96da1567",
   "metadata": {},
   "source": [
    "# CREATE and INSERT - groceries"
   ]
  },
  {
   "cell_type": "code",
   "execution_count": null,
   "id": "8724d5af",
   "metadata": {},
   "outputs": [],
   "source": [
    "con = sqlite3.connect(\"data/db/khan_acad.sqlite\")\n",
    "cur = con.cursor()\n",
    "\n",
    "cur.execute(\"CREATE TABLE IF NOT EXISTS groceries (id INTEGER PRIMARY KEY, name TEXT, quantity INTEGER);\")\n",
    "con.commit()\n",
    "\n",
    "con.close()"
   ]
  },
  {
   "cell_type": "code",
   "execution_count": null,
   "id": "030f7f67",
   "metadata": {},
   "outputs": [],
   "source": [
    "con = sqlite3.connect(\"data/db/khan_acad.sqlite\")\n",
    "cur = con.cursor()\n",
    "\n",
    "# Run only once, because of \"UNIQUE constraint failed: groceries.id\"\n",
    "cur.execute(\"INSERT INTO groceries VALUES (1, 'Bananas', 4);\")\n",
    "cur.execute(\"INSERT INTO groceries VALUES (2, 'Peanut Butter', 1);\")\n",
    "cur.execute(\"INSERT INTO groceries VALUES (3, 'Dark chocolate bars', 2);\")\n",
    "con.commit()\n",
    "\n",
    "con.close()"
   ]
  },
  {
   "cell_type": "code",
   "execution_count": null,
   "id": "3eb07223",
   "metadata": {},
   "outputs": [],
   "source": [
    "con = sqlite3.connect(\"data/db/khan_acad.sqlite\")\n",
    "cur = con.cursor()\n",
    "\n",
    "cur.execute(\"SELECT * FROM groceries;\")\n",
    "rows = cur.fetchall()\n",
    "\n",
    "con.close()\n",
    "\n",
    "print(rows)"
   ]
  },
  {
   "cell_type": "markdown",
   "id": "cc94e4bf",
   "metadata": {},
   "source": [
    "### Querying - groceries"
   ]
  },
  {
   "cell_type": "code",
   "execution_count": null,
   "id": "0779e6e9",
   "metadata": {},
   "outputs": [],
   "source": [
    "con = sqlite3.connect(\"data/db/khan_acad.sqlite\")\n",
    "cur = con.cursor()\n",
    "\n",
    "cur.execute(\"DROP TABLE IF EXISTS groceries;\")\n",
    "cur.execute('''\n",
    "CREATE TABLE IF NOT EXISTS groceries (\n",
    "    id INTEGER PRIMARY KEY, \n",
    "    name TEXT, \n",
    "    quantity INTEGER, \n",
    "    aisle INTEGER);\n",
    "''')\n",
    "con.commit()\n",
    "\n",
    "# Run only once, because of \"UNIQUE constraint failed: groceries.id\"\n",
    "cur.execute(\"INSERT INTO groceries VALUES (1, 'Bananas', 4, 7);\")\n",
    "cur.execute(\"INSERT INTO groceries VALUES (2, 'Peanut Butter', 1, 2);\")\n",
    "cur.execute(\"INSERT INTO groceries VALUES (3, 'Dark chocolate bars', 2, 2);\")\n",
    "cur.execute(\"INSERT INTO groceries VALUES (4, 'Ice Cream', 1, 12);\")\n",
    "cur.execute(\"INSERT INTO groceries VALUES (5, 'Peanut Butter', 6, 2);\")\n",
    "cur.execute(\"INSERT INTO groceries VALUES (6, 'Dark chocolate bars', 1, 4);\")\n",
    "con.commit()\n",
    "\n",
    "con.close()"
   ]
  },
  {
   "cell_type": "code",
   "execution_count": null,
   "id": "48f233f4",
   "metadata": {},
   "outputs": [],
   "source": [
    "def select(query: str, db_path: str=\"data/db/khan_acad.sqlite\"):\n",
    "    con = sqlite3.connect(db_path)\n",
    "    cur = con.cursor()\n",
    "    cur.execute(query)\n",
    "    rows = cur.fetchall()\n",
    "    con.close()\n",
    "    return rows"
   ]
  },
  {
   "cell_type": "code",
   "execution_count": null,
   "id": "9a53ceca",
   "metadata": {},
   "outputs": [],
   "source": [
    "print(select(query=\"SELECT * FROM groceries;\", db_path=\"data/db/khan_acad.sqlite\"))"
   ]
  },
  {
   "cell_type": "code",
   "execution_count": null,
   "id": "192a9719",
   "metadata": {},
   "outputs": [],
   "source": [
    "con = sqlite3.connect(\"data/db/khan_acad.sqlite\")\n",
    "cur = con.cursor()\n",
    "cur.execute(\"SELECT * FROM groceries;\")\n",
    "rows = cur.fetchall()\n",
    "con.close()\n",
    "\n",
    "print(rows)"
   ]
  },
  {
   "cell_type": "code",
   "execution_count": null,
   "id": "9ab4f501",
   "metadata": {},
   "outputs": [],
   "source": [
    "print(select(query=\"SELECT * FROM groceries ORDER BY aisle;\"))"
   ]
  },
  {
   "cell_type": "code",
   "execution_count": null,
   "id": "48cdde08",
   "metadata": {},
   "outputs": [],
   "source": [
    "print(select(query=\"SELECT * FROM groceries WHERE aisle > 5 ORDER BY aisle;\"))"
   ]
  },
  {
   "cell_type": "code",
   "execution_count": null,
   "id": "caae50e7",
   "metadata": {},
   "outputs": [],
   "source": [
    "print(f'total number of items: {select(\"SELECT SUM(quantity) FROM groceries;\")}')\n",
    "\n",
    "print(f'maximum number of single items class: {select(\"SELECT MAX(quantity) FROM groceries;\")}')\n",
    "\n",
    "print(f'total number of items by aisle: {select(\"SELECT aisle, SUM(quantity) FROM groceries GROUP BY aisle;\")}')"
   ]
  },
  {
   "cell_type": "markdown",
   "id": "2a039c84",
   "metadata": {},
   "source": [
    "### Bit more advanced querying - exercise_log"
   ]
  },
  {
   "cell_type": "code",
   "execution_count": null,
   "id": "fb9da6ea",
   "metadata": {},
   "outputs": [],
   "source": [
    "con = sqlite3.connect(\"data/db/khan_acad.sqlite\")\n",
    "cur = con.cursor()\n",
    "\n",
    "cur.execute(\"DROP TABLE IF EXISTS exercise_log;\")\n",
    "cur.execute('''\n",
    "CREATE TABLE IF NOT EXISTS exercise_log (\n",
    "    id INTEGER PRIMARY KEY AUTOINCREMENT, \n",
    "    type TEXT, \n",
    "    minutes INTEGER,\n",
    "    calories INTEGER,\n",
    "    heart_rate INTEGER);\n",
    "''')\n",
    "con.commit()\n",
    "\n",
    "# No problem with \"UNIQUE constraint failed\" now, because of AUTOINCREMENT\n",
    "cur.execute(\"INSERT INTO exercise_log(type, minutes, calories, heart_rate) VALUES ('biking', 30, 100, 110);\")\n",
    "cur.execute(\"INSERT INTO exercise_log(type, minutes, calories, heart_rate) VALUES ('biking', 10, 30, 105);\")\n",
    "cur.execute(\"INSERT INTO exercise_log(type, minutes, calories, heart_rate) VALUES ('dancing', 15, 200, 120);\")\n",
    "con.commit()\n",
    "\n",
    "con.close()\n",
    "\n",
    "print(query(\" EXPLAIN QUERY PLAN SELECT * FROM exercise_log;\"))"
   ]
  },
  {
   "cell_type": "code",
   "execution_count": null,
   "id": "1a5aa252",
   "metadata": {},
   "outputs": [],
   "source": [
    "print(query(\" EXPLAIN QUERY PLAN SELECT * FROM exercise_log WHERE calories > 50 AND minutes < 30 ORDER BY calories;\"))"
   ]
  },
  {
   "cell_type": "code",
   "execution_count": null,
   "id": "c036d076",
   "metadata": {},
   "outputs": [],
   "source": [
    "print(query(\"SELECT * FROM exercise_log WHERE calories > 50 OR minutes > 100;\"))"
   ]
  },
  {
   "cell_type": "markdown",
   "id": "d3ff6a05",
   "metadata": {},
   "source": [
    "# Apparently a better way of managing db connection:"
   ]
  },
  {
   "cell_type": "code",
   "execution_count": null,
   "id": "cc40fb34",
   "metadata": {},
   "outputs": [],
   "source": [
    "from contextlib import closing"
   ]
  },
  {
   "cell_type": "code",
   "execution_count": null,
   "id": "4a0cb69a",
   "metadata": {},
   "outputs": [],
   "source": [
    "def query(sql, db_path=\"data/db/khan_acad.sqlite\"):\n",
    "    with closing(sqlite3.connect(db_path)) as con, con,  \\\n",
    "            closing(con.cursor()) as cur:\n",
    "        cur.execute(sql)\n",
    "        return cur.fetchall()"
   ]
  },
  {
   "cell_type": "code",
   "execution_count": null,
   "id": "7bf3638b",
   "metadata": {},
   "outputs": [],
   "source": [
    "# Adding more rows to exercise_log\n",
    "query(sql=\"INSERT INTO exercise_log(type, minutes, calories, heart_rate) VALUES ('tree climbing', 30, 70, 90);\")\n",
    "query(sql=\"INSERT INTO exercise_log(type, minutes, calories, heart_rate) VALUES ('tree climbing', 25, 72, 80);\")\n",
    "query(sql=\"INSERT INTO exercise_log(type, minutes, calories, heart_rate) VALUES ('rowing', 30, 70, 90);\")\n",
    "query(sql=\"INSERT INTO exercise_log(type, minutes, calories, heart_rate) VALUES ('hiking', 60, 80, 85);\")"
   ]
  },
  {
   "cell_type": "markdown",
   "id": "44069282",
   "metadata": {},
   "source": [
    "# Subqueries"
   ]
  },
  {
   "cell_type": "markdown",
   "id": "89978f6a",
   "metadata": {},
   "source": [
    "### IN - drs_favorites"
   ]
  },
  {
   "cell_type": "code",
   "execution_count": null,
   "id": "d0ec645a",
   "metadata": {},
   "outputs": [],
   "source": [
    "# Outdoor activities\n",
    "query(\"SELECT * FROM exercise_log WHERE type IN ('biking', 'hiking', 'tree climbing', 'rowing')\")"
   ]
  },
  {
   "cell_type": "code",
   "execution_count": null,
   "id": "aae94875",
   "metadata": {},
   "outputs": [],
   "source": [
    "# Indoor activities\n",
    "query(\"SELECT * FROM exercise_log WHERE type NOT IN ('biking', 'hiking', 'tree climbing', 'rowing')\")"
   ]
  },
  {
   "cell_type": "code",
   "execution_count": null,
   "id": "a895ca84",
   "metadata": {},
   "outputs": [],
   "source": [
    "query('''CREATE TABLE drs_favorites (\n",
    "    id INTEGER PRIMARY KEY AUTOINCREMENT,\n",
    "    type TEXT,\n",
    "    reason TEXT\n",
    "); ''')\n",
    "query(\"INSERT INTO drs_favorites (type, reason) VALUES ('biking', 'Improvers endurance and flexibility');\")\n",
    "query(\"INSERT INTO drs_favorites (type, reason) VALUES ('hiking', 'Increases cardiovascular health');\")"
   ]
  },
  {
   "cell_type": "code",
   "execution_count": null,
   "id": "6d095013",
   "metadata": {},
   "outputs": [],
   "source": [
    "query(\"SELECT * FROM drs_favorites;\")"
   ]
  },
  {
   "cell_type": "markdown",
   "id": "7b22c09f",
   "metadata": {},
   "source": [
    "### AS, HAVING, SUM, AVG - exercise log"
   ]
  },
  {
   "cell_type": "code",
   "execution_count": null,
   "id": "b9b1e0cb",
   "metadata": {},
   "outputs": [],
   "source": [
    "query(\"SELECT type, SUM(calories) AS total_calories FROM exercise_log GROUP BY type;\")"
   ]
  },
  {
   "cell_type": "code",
   "execution_count": null,
   "id": "15f05e35",
   "metadata": {},
   "outputs": [],
   "source": [
    "query(\"SELECT type, SUM(calories) AS total_calories FROM exercise_log GROUP BY type HAVING total_calories > 100;\")"
   ]
  },
  {
   "cell_type": "code",
   "execution_count": null,
   "id": "32f3c443",
   "metadata": {},
   "outputs": [],
   "source": [
    "query(\"SELECT type FROM exercise_log GROUP BY type HAVING COUNT (*) >= 2;\")"
   ]
  },
  {
   "cell_type": "markdown",
   "id": "65985913",
   "metadata": {},
   "source": [
    "### IN - drs_favorites"
   ]
  },
  {
   "cell_type": "code",
   "execution_count": null,
   "id": "591aa93d",
   "metadata": {},
   "outputs": [],
   "source": [
    "query(\"SELECT * FROM exercise_log WHERE type IN (SELECT type FROM drs_favorites);\")"
   ]
  },
  {
   "cell_type": "code",
   "execution_count": null,
   "id": "f8aab1e5",
   "metadata": {},
   "outputs": [],
   "source": [
    "query('''SELECT * FROM exercise_log WHERE type IN (\n",
    "      SELECT type FROM drs_favorites WHERE reason LIKE ('%cardiovascular%'));''')"
   ]
  },
  {
   "cell_type": "markdown",
   "id": "71697a6d",
   "metadata": {},
   "source": [
    "### CASE - exercise_log"
   ]
  },
  {
   "cell_type": "code",
   "execution_count": null,
   "id": "3a45aaf1",
   "metadata": {},
   "outputs": [],
   "source": [
    "query(\"SELECT COUNT(*) FROM exercise_log WHERE heart_rate > 220-30;\")"
   ]
  },
  {
   "cell_type": "code",
   "execution_count": null,
   "id": "df8e799e",
   "metadata": {},
   "outputs": [],
   "source": [
    "query('''SELECT * FROM exercise_log WHERE \n",
    "      heart_rate > ROUND(0.50*190) \n",
    "      AND heart_rate  <= ROUND(0.90*190);''')"
   ]
  },
  {
   "cell_type": "code",
   "execution_count": null,
   "id": "d6c86b1d",
   "metadata": {},
   "outputs": [],
   "source": [
    "query('''SELECT type, heart_rate,\n",
    "    CASE \n",
    "        WHEN heart_rate > 190 THEN 'above max'\n",
    "        WHEN heart_rate > 190*0.6 THEN 'above target'\n",
    "        WHEN heart_rate > 190*0.5 THEN 'on spot'\n",
    "        ELSE 'below target'\n",
    "    END as 'hr_zone'\n",
    "FROM exercise_log''')"
   ]
  },
  {
   "cell_type": "code",
   "execution_count": null,
   "id": "89a8b7e1",
   "metadata": {},
   "outputs": [],
   "source": [
    "query('''SELECT COUNT(*),\n",
    "    CASE \n",
    "        WHEN heart_rate > 190 THEN 'above max'\n",
    "        WHEN heart_rate > 190*0.6 THEN 'above target'\n",
    "        WHEN heart_rate > 190*0.5 THEN 'on spot'\n",
    "        ELSE 'below target'\n",
    "    END as 'hr_zone'\n",
    "FROM exercise_log\n",
    "GROUP BY hr_zone; ''')"
   ]
  },
  {
   "cell_type": "markdown",
   "id": "c967b4b5",
   "metadata": {},
   "source": [
    "Interesting (but not working) example of CASE from: \n",
    "\n",
    "https://www.khanacademy.org/computing/computer-programming/sql/more-advanced-sql-queries/pc/challenge-gradebook"
   ]
  },
  {
   "cell_type": "code",
   "execution_count": null,
   "id": "f9efd521",
   "metadata": {},
   "outputs": [],
   "source": [
    "CREATE TABLE student_grades (\n",
    "    id INTEGER PRIMARY KEY AUTOINCREMENT,\n",
    "    name TEXT,\n",
    "    number_grade INTEGER,\n",
    "    fraction_completed REAL);\n",
    "    \n",
    "INSERT INTO student_grades (name, number_grade, fraction_completed)\n",
    "    VALUES (\"Winston\", 90, 0.805);\n",
    "INSERT INTO student_grades (name, number_grade, fraction_completed)\n",
    "    VALUES (\"Winnefer\", 95, 0.901);\n",
    "INSERT INTO student_grades (name, number_grade, fraction_completed)\n",
    "    VALUES (\"Winsteen\", 85, 0.906);\n",
    "INSERT INTO student_grades (name, number_grade, fraction_completed)\n",
    "    VALUES (\"Wincifer\", 66, 0.7054);\n",
    "INSERT INTO student_grades (name, number_grade, fraction_completed)\n",
    "    VALUES (\"Winster\", 76, 0.5013);\n",
    "INSERT INTO student_grades (name, number_grade, fraction_completed)\n",
    "    VALUES (\"Winstonia\", 82, 0.9045);\n",
    "\n",
    "SELECT name, number_grade, ROUND(fraction_completed*100) AS percent_completed FROM student_grades;\n",
    "\n",
    "SELECT COUNT (*),\n",
    "    CASE \n",
    "        WHEN number_grade > 90 then \"A\"\n",
    "        WHEN number_grade > 80 then \"B\"\n",
    "        WHEN number_grade > 70 then \"C\"\n",
    "        ELSE \"F\"\n",
    "    END as \"letter_grade\"\n",
    "FROM student_grades\n",
    "GROUP BY letter_grade;"
   ]
  },
  {
   "cell_type": "markdown",
   "id": "29934ff0",
   "metadata": {},
   "source": [
    "# Working with many tables"
   ]
  },
  {
   "cell_type": "markdown",
   "id": "db289161",
   "metadata": {},
   "source": [
    "## JOIN"
   ]
  },
  {
   "cell_type": "markdown",
   "id": "af5593eb",
   "metadata": {},
   "source": [
    "Examples based on Khan Academy course:\n",
    "\n",
    "https://www.khanacademy.org/computing/computer-programming/sql/relational-queries-in-sql"
   ]
  },
  {
   "cell_type": "markdown",
   "id": "ece0d733",
   "metadata": {},
   "source": [
    "### cross-join == cartesian product  \n",
    "SELECT * FROM students, students_grades;  \n",
    "  \n",
    "### implicit inner-join  \n",
    "SELECT * FROM students, students_grades  \n",
    "    WHERE students.id = students_grades.student_id;  \n",
    "      \n",
    "### explicit inner-join  \n",
    "SELECT * FROM students  \n",
    "    JOIN students_grades  \n",
    "    ON students.id = student_grades.student_id;  \n",
    "  \n",
    "### outer-join  \n",
    "SELECT * FROM students  \n",
    "    LEFT/RIGHT/FULL OUTER JOIN students_projects  \n",
    "    ON students.id = students_projects.student_id;  \n",
    "    \n",
    "### self-join"
   ]
  },
  {
   "cell_type": "markdown",
   "id": "ff812a63",
   "metadata": {},
   "source": [
    "### Think about it:\n",
    "SELECT customers.name, customers.email, SUM(price)  \n",
    "FROM orders  \n",
    "LEFT OUTER JOIN customers  \n",
    "ON customers.id = orders.customer_id  \n",
    "GROUP BY customer_id;  "
   ]
  },
  {
   "cell_type": "markdown",
   "id": "f9ad94da",
   "metadata": {},
   "source": [
    "### UPDATE, DELETE"
   ]
  },
  {
   "cell_type": "markdown",
   "id": "ef5dadf6",
   "metadata": {},
   "source": [
    "Good practice when using DELETE (?):"
   ]
  },
  {
   "cell_type": "markdown",
   "id": "6a65ca1c",
   "metadata": {},
   "source": [
    "SELECT rows FROM table_name;  \n",
    "and then change SELECT -> DELETE for safety:  \n",
    "DELETE rows FROM table_name; "
   ]
  }
 ],
 "metadata": {
  "kernelspec": {
   "display_name": "Python 3 (ipykernel)",
   "language": "python",
   "name": "python3"
  },
  "language_info": {
   "codemirror_mode": {
    "name": "ipython",
    "version": 3
   },
   "file_extension": ".py",
   "mimetype": "text/x-python",
   "name": "python",
   "nbconvert_exporter": "python",
   "pygments_lexer": "ipython3",
   "version": "3.7.3"
  }
 },
 "nbformat": 4,
 "nbformat_minor": 5
}
