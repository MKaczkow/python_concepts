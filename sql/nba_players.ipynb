{
 "cells": [
  {
   "cell_type": "code",
   "execution_count": 6,
   "id": "505c7fce",
   "metadata": {},
   "outputs": [
    {
     "name": "stdout",
     "output_type": "stream",
     "text": [
      "3.21.0\n"
     ]
    }
   ],
   "source": [
    "import os\n",
    "import json\n",
    "import sqlite3\n",
    "import pandas as pd\n",
    "from contextlib import closing\n",
    "\n",
    "print(sqlite3.sqlite_version)"
   ]
  },
  {
   "cell_type": "markdown",
   "id": "41745f94",
   "metadata": {},
   "source": [
    "# NBA players db"
   ]
  },
  {
   "cell_type": "markdown",
   "id": "2c9a3145",
   "metadata": {},
   "source": [
    "## Populating database"
   ]
  },
  {
   "cell_type": "code",
   "execution_count": 20,
   "id": "1e517077",
   "metadata": {},
   "outputs": [],
   "source": [
    "def query(sql, db_path=\"data/db/nba_players.sqlite\", single=True):\n",
    "    with closing(sqlite3.connect(db_path)) as con, con, closing(con.cursor()) as cur:\n",
    "        if single:\n",
    "            cur.execute(sql)\n",
    "        else:\n",
    "            cur.executemany(sql)\n",
    "        return cur.fetchall()"
   ]
  },
  {
   "cell_type": "code",
   "execution_count": 18,
   "id": "7e15fe45",
   "metadata": {},
   "outputs": [
    {
     "name": "stdout",
     "output_type": "stream",
     "text": [
      "/*\n",
      "Source:\n",
      "https://www.kaggle.com/jacobbaruch/nba-player-of-the-week \n",
      "*/\n",
      "CREATE TABLE players(\n",
      "   Player            TEXT,\n",
      "   Team              TEXT,\n",
      "   Conference        TEXT,\n",
      "   Date              TEXT,\n",
      "   Position          TEXT,\n",
      "   Height            TEXT,\n",
      "   Weight            INTEGER,\n",
      "   Age               INTEGER,\n",
      "   Draft_Year        INTEGER,\n",
      "   Seasons_in_league INTEGER,\n",
      "   Season            TEXT,\n",
      "   Season_short      INTEGER,\n",
      "   Predraft_Team     TEXT,\n",
      "   Real_value        REAL,\n",
      "   Height_CM         INTEGER,\n",
      "   Weight_KG         INTEGER,\n",
      "   Last_Season       INTEGER\n",
      ");\n",
      "INSERT INTO players(\n"
     ]
    }
   ],
   "source": [
    "with open(\"./data/nba_players.sql\", \"r\") as f:\n",
    "    long_sql_query = f.read()\n",
    "\n",
    "print(long_sql_query[0:600])"
   ]
  },
  {
   "cell_type": "code",
   "execution_count": null,
   "id": "2599e5a5",
   "metadata": {},
   "outputs": [],
   "source": []
  }
 ],
 "metadata": {
  "kernelspec": {
   "display_name": "Python 3 (ipykernel)",
   "language": "python",
   "name": "python3"
  },
  "language_info": {
   "codemirror_mode": {
    "name": "ipython",
    "version": 3
   },
   "file_extension": ".py",
   "mimetype": "text/x-python",
   "name": "python",
   "nbconvert_exporter": "python",
   "pygments_lexer": "ipython3",
   "version": "3.7.3"
  }
 },
 "nbformat": 4,
 "nbformat_minor": 5
}
